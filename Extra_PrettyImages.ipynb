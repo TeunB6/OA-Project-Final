{
 "cells": [
  {
   "cell_type": "markdown",
   "id": "565b4c55",
   "metadata": {},
   "source": [
    "# Images\n",
    "We used lupton's algorithm to compute RGB images from our data. The data was aligned taking green as the true position, this is chosen arbitrarily."
   ]
  },
  {
   "cell_type": "code",
   "execution_count": null,
   "id": "c476668e",
   "metadata": {},
   "outputs": [],
   "source": [
    "from ObservationData import ObservationData\n",
    "import numpy as np\n",
    "from astropy.visualization import make_lupton_rgb\n",
    "import os\n",
    "import matplotlib.pyplot as plt\n",
    "from astroalign import register\n",
    "from astropy.io import fits\n",
    "from skimage import exposure, color, img_as_float, restoration\n",
    "\n",
    "data_dir = \"/net/virgo01/data/users/tboersma/2025-04-30/final_images\"\n",
    "\n",
    "print(\"Loading data...\")\n",
    "red = fits.getdata(os.path.join(data_dir, \"final_M81_R*.fits\"))\n",
    "green = fits.getdata(os.path.join(data_dir, \"final_M81_G*.fits\"))\n",
    "blue = fits.getdata(os.path.join(data_dir, \"final_M81_B*.fits\"))\n",
    "\n",
    "\n",
    "\n",
    "def normalize(data):\n",
    "    return data / np.percentile(data, 99.5)\n",
    "\n",
    "# green as true\n",
    "print(\"Aligning Images...\")\n",
    "ref = green.byteswap().newbyteorder() \n",
    "red, _ = register(red.byteswap().newbyteorder() , ref)\n",
    "blue, _ = register(blue.byteswap().newbyteorder() , ref)\n",
    "\n",
    "\n",
    "# Normalize channels\n",
    "print(\"Normalizing Channels...\")\n",
    "r_norm = normalize(red)\n",
    "g_norm = normalize(green)\n",
    "b_norm = normalize(blue)\n",
    "\n",
    "# Create RGB image using Lupton's algorithm (asinh stretch, good for astronomy)\n",
    "\n",
    "rgb_image = make_lupton_rgb(r_norm, g_norm, b_norm, Q=10, stretch=0.5)\n",
    "\n",
    "# Plot the result\n",
    "plt.figure(figsize=(10, 10))\n",
    "plt.imshow(rgb_image, origin='lower')\n",
    "plt.title(\"RGB Composite\", fontsize=16)\n",
    "plt.axis('off')\n",
    "plt.tight_layout()\n",
    "plt.show()"
   ]
  }
 ],
 "metadata": {
  "kernelspec": {
   "display_name": "Anaconda3 - 2024.02",
   "language": "python",
   "name": "python3-2024.02"
  },
  "language_info": {
   "codemirror_mode": {
    "name": "ipython",
    "version": 3
   },
   "file_extension": ".py",
   "mimetype": "text/x-python",
   "name": "python",
   "nbconvert_exporter": "python",
   "pygments_lexer": "ipython3",
   "version": "3.11.7"
  }
 },
 "nbformat": 4,
 "nbformat_minor": 5
}
